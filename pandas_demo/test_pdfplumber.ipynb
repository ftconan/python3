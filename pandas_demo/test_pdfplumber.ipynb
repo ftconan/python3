{
 "cells": [
  {
   "cell_type": "code",
   "execution_count": 6,
   "metadata": {},
   "outputs": [
    {
     "name": "stdout",
     "output_type": "stream",
     "text": [
      "Package            Version\n",
      "------------------ -------\n",
      "appnope            0.1.0  \n",
      "attrs              19.3.0 \n",
      "backcall           0.1.0  \n",
      "bleach             3.1.0  \n",
      "decorator          4.4.1  \n",
      "defusedxml         0.6.0  \n",
      "entrypoints        0.3    \n",
      "importlib-metadata 1.3.0  \n",
      "ipykernel          5.1.3  \n",
      "ipython            7.10.2 \n",
      "ipython-genutils   0.2.0  \n",
      "jedi               0.15.1 \n",
      "Jinja2             2.10.3 \n",
      "json5              0.8.5  \n",
      "jsonschema         3.2.0  \n",
      "jupyter-client     5.3.4  \n",
      "jupyter-console    6.0.0  \n",
      "jupyter-core       4.6.1  \n",
      "jupyterlab         1.2.4  \n",
      "jupyterlab-server  1.0.6  \n",
      "MarkupSafe         1.1.1  \n",
      "mistune            0.8.4  \n",
      "more-itertools     8.0.2  \n",
      "nbconvert          5.6.1  \n",
      "nbformat           4.4.0  \n",
      "notebook           6.0.2  \n",
      "pandocfilters      1.4.2  \n",
      "parso              0.5.2  \n",
      "pexpect            4.7.0  \n",
      "pickleshare        0.7.5  \n",
      "pip                19.3.1 \n",
      "prometheus-client  0.7.1  \n",
      "prompt-toolkit     2.0.10 \n",
      "ptyprocess         0.6.0  \n",
      "Pygments           2.5.2  \n",
      "pyrsistent         0.15.6 \n",
      "python-dateutil    2.8.1  \n",
      "pyzmq              18.1.1 \n",
      "Send2Trash         1.5.0  \n",
      "setuptools         42.0.2 \n",
      "six                1.13.0 \n",
      "terminado          0.8.3  \n",
      "testpath           0.4.4  \n",
      "tornado            6.0.3  \n",
      "traitlets          4.3.3  \n",
      "wcwidth            0.1.7  \n",
      "webencodings       0.5.1  \n",
      "wheel              0.33.6 \n",
      "zipp               0.6.0  \n",
      "Note: you may need to restart the kernel to use updated packages.\n"
     ]
    }
   ],
   "source": [
    "pip list"
   ]
  },
  {
   "cell_type": "code",
   "execution_count": null,
   "metadata": {},
   "outputs": [],
   "source": []
  }
 ],
 "metadata": {
  "kernelspec": {
   "display_name": "Python 3",
   "language": "python",
   "name": "python3"
  },
  "language_info": {
   "codemirror_mode": {
    "name": "ipython",
    "version": 3
   },
   "file_extension": ".py",
   "mimetype": "text/x-python",
   "name": "python",
   "nbconvert_exporter": "python",
   "pygments_lexer": "ipython3",
   "version": "3.7.6"
  }
 },
 "nbformat": 4,
 "nbformat_minor": 2
}
